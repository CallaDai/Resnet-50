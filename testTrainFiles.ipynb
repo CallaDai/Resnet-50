{
 "cells": [
  {
   "cell_type": "code",
   "execution_count": 23,
   "metadata": {
    "collapsed": true
   },
   "outputs": [],
   "source": [
    "import matplotlib.pyplot as plt\n",
    "import numpy as np\n",
    "import os\n",
    "import PIL\n",
    "import tensorflow as tf\n",
    "from tensorflow import keras\n",
    "from tensorflow.keras import layers\n",
    "from tensorflow.python.keras.layers import Dense, Flatten\n",
    "from tensorflow.keras.models import Sequential\n",
    "from tensorflow.keras.optimizers import Adam\n",
    "import keras\n",
    "import cv2\n",
    "from keras.models import load_model\n",
    "import pathlib\n"
   ]
  },
  {
   "cell_type": "code",
   "execution_count": 24,
   "metadata": {
    "collapsed": true
   },
   "outputs": [],
   "source": [
    "img_height, img_width = 224,224\n",
    "batch_size = 32"
   ]
  },
  {
   "cell_type": "code",
   "execution_count": 25,
   "metadata": {
    "collapsed": true
   },
   "outputs": [],
   "source": [
    "# 重新加载模型\n",
    "resnet_model = load_model('/root/resnet_EB_Wall_20class/model/my_model_newPic.h5')\n"
   ]
  },
  {
   "cell_type": "code",
   "execution_count": 26,
   "metadata": {},
   "outputs": [
    {
     "name": "stdout",
     "output_type": "stream",
     "text": [
      "/root/data_Camera/20classWooden_1/\n"
     ]
    }
   ],
   "source": [
    "data_dir = r\"/root/data_Camera/20classWooden_1/\"\n",
    "type(data_dir)\n",
    "print(data_dir)"
   ]
  },
  {
   "cell_type": "code",
   "execution_count": 27,
   "metadata": {},
   "outputs": [
    {
     "name": "stdout",
     "output_type": "stream",
     "text": [
      "/root/data_Camera/20classWooden_1\n"
     ]
    }
   ],
   "source": [
    "data_dir = pathlib.Path(data_dir)\n",
    "type(data_dir)\n",
    "print(data_dir)"
   ]
  },
  {
   "cell_type": "code",
   "execution_count": 28,
   "metadata": {
    "collapsed": true
   },
   "outputs": [],
   "source": [
    "def get_name_list(filepath):                #获取各个类别的名字\n",
    "    pathDir =  os.listdir(filepath)\n",
    "    out = []\n",
    "    for allDir in pathDir:\n",
    "        if os.path.isdir(os.path.join(filepath,allDir)):\n",
    "            #child = allDir()    # .decode('gbk')是解决中文显示乱码问题\n",
    "            out.append(allDir)\n",
    "    return out"
   ]
  },
  {
   "cell_type": "code",
   "execution_count": 29,
   "metadata": {},
   "outputs": [
    {
     "name": "stdout",
     "output_type": "stream",
     "text": [
      "['3817B_W_NE_0', '3827B_W_E_1', '4519B_W_E_0', '4538B_W_E_0', '4552B_W_E_3', '4586B_W_E_1', '4648B_W_E_0', '4669B_W_E_1', '4791B_W_E_0', '4917B_W_NE_0', '4955B_W_NE_0', '5115B_W_NE_1', '5132B_W_E_0', '5180B_W_E_0', '5206B_W_E_1', '5273B_W_E_5', '5340B_W_E_0', '5393B_W_E_0', '7090Z_W_E_0', '7094Z_W_E_0']\n"
     ]
    }
   ],
   "source": [
    "class_name= sorted(get_name_list(data_dir))\n",
    "#class_name = class_name.sort()\n",
    "print(class_name)\n",
    "fp = open(\"/root/resnet_EB_Wall_20class/samplesTestclass_name.csv\", \"a+\")\n",
    "print(class_name, file=fp)\n",
    "fp.close()\t"
   ]
  },
  {
   "cell_type": "code",
   "execution_count": 30,
   "metadata": {},
   "outputs": [
    {
     "name": "stdout",
     "output_type": "stream",
     "text": [
      "/root/data_Camera/samples/samplesTestFor20Class/\n"
     ]
    }
   ],
   "source": [
    "testData_dir = r\"/root/data_Camera/samples/samplesTestFor20Class/\"\n",
    "type(testData_dir)\n",
    "print(testData_dir)"
   ]
  },
  {
   "cell_type": "code",
   "execution_count": 31,
   "metadata": {},
   "outputs": [
    {
     "name": "stdout",
     "output_type": "stream",
     "text": [
      "/root/data_Camera/samples/samplesTestFor20Class\n"
     ]
    }
   ],
   "source": [
    "testData_dir = pathlib.Path(testData_dir)\n",
    "type(testData_dir)\n",
    "print(testData_dir)"
   ]
  },
  {
   "cell_type": "code",
   "execution_count": 32,
   "metadata": {},
   "outputs": [
    {
     "name": "stdout",
     "output_type": "stream",
     "text": [
      "[PosixPath('/root/data_Camera/samples/samplesTestFor20Class/trainImage/4791B_W_E_0_1651237868346156_imgaug.jpg'), PosixPath('/root/data_Camera/samples/samplesTestFor20Class/trainImage/5273B_W_E_5_16512377198217_imgaug.jpg'), PosixPath('/root/data_Camera/samples/samplesTestFor20Class/trainImage/3827B_W_E_1_1651237767992179_imgaug.jpg'), PosixPath('/root/data_Camera/samples/samplesTestFor20Class/trainImage/4955B_W_NE_0_1651237736137186_imgaug.jpg'), PosixPath('/root/data_Camera/samples/samplesTestFor20Class/trainImage/7094Z_W_E_0_1651237635931122_imgaug.jpg')]\n"
     ]
    }
   ],
   "source": [
    "trainImage = list(testData_dir.glob('trainImage/*'))\n",
    "print(trainImage)"
   ]
  },
  {
   "cell_type": "code",
   "execution_count": 33,
   "metadata": {},
   "outputs": [
    {
     "name": "stdout",
     "output_type": "stream",
     "text": [
      "5\n"
     ]
    }
   ],
   "source": [
    "trainImageLen = len(trainImage)\n",
    "print(trainImageLen)"
   ]
  },
  {
   "cell_type": "code",
   "execution_count": 34,
   "metadata": {},
   "outputs": [
    {
     "name": "stdout",
     "output_type": "stream",
     "text": [
      "/root/data_Camera/samples/samplesTestFor20Class/trainImage/4791B_W_E_0_1651237868346156_imgaug.jpg\n"
     ]
    }
   ],
   "source": [
    "\n",
    "oneImageTest = list(testData_dir.glob('trainImage/*'))\n",
    "print(oneImageTest[0])\n"
   ]
  },
  {
   "cell_type": "code",
   "execution_count": 35,
   "metadata": {},
   "outputs": [
    {
     "name": "stdout",
     "output_type": "stream",
     "text": [
      "(1, 224, 224, 3)\n"
     ]
    }
   ],
   "source": [
    "oneImageTest = cv2.imread(str(oneImageTest[0]))\n",
    "oneImage_resized = cv2.resize(oneImageTest,(img_height,img_width))\n",
    "oneImageTest=np.expand_dims(oneImage_resized,axis=0)\n",
    "print(oneImageTest.shape)"
   ]
  },
  {
   "cell_type": "code",
   "execution_count": 36,
   "metadata": {},
   "outputs": [
    {
     "name": "stdout",
     "output_type": "stream",
     "text": [
      "[[5.07457742e-07 2.19287202e-07 1.03750484e-04 3.01036351e-07\n",
      "  5.64720438e-07 2.73736759e-07 7.84463167e-01 1.29905220e-06\n",
      "  2.15303168e-01 7.44428280e-06 8.41367728e-05 3.05652776e-07\n",
      "  3.45390617e-06 1.53130441e-06 1.70594973e-07 5.33757202e-07\n",
      "  1.12052230e-05 1.34847335e-06 1.60701911e-05 6.00688452e-07]]\n",
      "6\n",
      "6 4648B_W_E_0\n"
     ]
    }
   ],
   "source": [
    "onePred=resnet_model.predict(oneImageTest)\n",
    "print(onePred)\n",
    "oneOutput=np.argmax(onePred)\n",
    "print(oneOutput)\n",
    "print(oneOutput, class_name[oneOutput])"
   ]
  },
  {
   "cell_type": "code",
   "execution_count": 38,
   "metadata": {},
   "outputs": [
    {
     "name": "stdout",
     "output_type": "stream",
     "text": [
      "0\n",
      "/root/data_Camera/samples/samplesTestFor20Class/trainImage/4791B_W_E_0_1651237868346156_imgaug.jpg\n",
      "[[5.07457742e-07 2.19287202e-07 1.03750484e-04 3.01036351e-07\n",
      "  5.64720438e-07 2.73736759e-07 7.84463167e-01 1.29905220e-06\n",
      "  2.15303168e-01 7.44428280e-06 8.41367728e-05 3.05652776e-07\n",
      "  3.45390617e-06 1.53130441e-06 1.70594973e-07 5.33757202e-07\n",
      "  1.12052230e-05 1.34847335e-06 1.60701911e-05 6.00688452e-07]]\n",
      "The predicted class is 4648B_W_E_0\n",
      "<class 'list'>\n",
      "[[ 6  8  2 10 18]]\n",
      "<class 'list'>\n",
      "top= 0 6 4648B_W_E_0 0.7844631671905518\n",
      "top= 1 8 4791B_W_E_0 0.21530316770076752\n",
      "top= 2 2 4519B_W_E_0 0.00010375048441346735\n",
      "top= 3 10 4955B_W_NE_0 8.413677278440446e-05\n",
      "top= 4 18 7090Z_W_E_0 1.607019112270791e-05\n",
      "1\n",
      "/root/data_Camera/samples/samplesTestFor20Class/trainImage/5273B_W_E_5_16512377198217_imgaug.jpg\n",
      "[[2.7072909e-07 2.0768141e-10 8.2850526e-09 4.8154587e-09 6.1248810e-09\n",
      "  6.8263063e-07 7.1113986e-13 2.1255737e-10 2.3050846e-10 5.4901727e-07\n",
      "  1.2415417e-11 6.5715954e-11 4.5597064e-09 4.4180153e-11 4.2895245e-08\n",
      "  9.9999750e-01 4.2568348e-11 9.5846508e-07 1.0271332e-10 3.7746087e-10]]\n",
      "The predicted class is 5273B_W_E_5\n",
      "<class 'list'>\n",
      "[[15 17  5  9  0]]\n",
      "<class 'list'>\n",
      "top= 0 15 5273B_W_E_5 0.9999974966049194\n",
      "top= 1 17 5393B_W_E_0 9.58465079747839e-07\n",
      "top= 2 5 4586B_W_E_1 6.826306275797833e-07\n",
      "top= 3 9 4917B_W_NE_0 5.490172725330922e-07\n",
      "top= 4 0 3817B_W_NE_0 2.7072908892478154e-07\n",
      "2\n",
      "/root/data_Camera/samples/samplesTestFor20Class/trainImage/3827B_W_E_1_1651237767992179_imgaug.jpg\n",
      "[[5.6039363e-07 1.0883829e-04 3.8772287e-06 1.6700031e-07 4.2219455e-08\n",
      "  3.5176779e-08 7.8193890e-04 3.6490851e-06 2.6820354e-08 1.3499253e-07\n",
      "  7.7558887e-08 4.6267014e-06 9.7253560e-06 1.4916293e-06 3.1081079e-08\n",
      "  4.8981967e-08 3.7847611e-05 7.4114320e-07 9.9904317e-01 3.0031158e-06]]\n",
      "The predicted class is 7090Z_W_E_0\n",
      "<class 'list'>\n",
      "[[18  6  1 16 12]]\n",
      "<class 'list'>\n",
      "top= 0 18 7090Z_W_E_0 0.9990431666374207\n",
      "top= 1 6 4648B_W_E_0 0.0007819388993084431\n",
      "top= 2 1 3827B_W_E_1 0.00010883829236263409\n",
      "top= 3 16 5340B_W_E_0 3.784761065617204e-05\n",
      "top= 4 12 5132B_W_E_0 9.725355994305573e-06\n",
      "3\n",
      "/root/data_Camera/samples/samplesTestFor20Class/trainImage/4955B_W_NE_0_1651237736137186_imgaug.jpg\n",
      "[[1.3946379e-08 2.1157183e-08 2.8042966e-06 8.3682593e-08 1.7021551e-07\n",
      "  4.1689681e-08 6.6036370e-04 2.9445644e-06 2.4417687e-07 2.7867850e-07\n",
      "  9.9905747e-01 1.9763704e-08 1.7874713e-08 2.5452380e-06 8.1260012e-08\n",
      "  2.6396311e-08 2.5387414e-04 5.1533056e-07 1.8368773e-05 6.9809751e-08]]\n",
      "The predicted class is 4955B_W_NE_0\n",
      "<class 'list'>\n",
      "[[10  6 16 18  7]]\n",
      "<class 'list'>\n",
      "top= 0 10 4955B_W_NE_0 0.9990574717521667\n",
      "top= 1 6 4648B_W_E_0 0.000660363701172173\n",
      "top= 2 16 5340B_W_E_0 0.0002538741391617805\n",
      "top= 3 18 7090Z_W_E_0 1.8368773453403264e-05\n",
      "top= 4 7 4669B_W_E_1 2.944564357676427e-06\n",
      "4\n",
      "/root/data_Camera/samples/samplesTestFor20Class/trainImage/7094Z_W_E_0_1651237635931122_imgaug.jpg\n",
      "[[3.0900897e-05 6.6732537e-06 2.5352196e-07 1.9651507e-07 3.9999483e-07\n",
      "  9.6679365e-08 1.5249671e-03 9.2207511e-06 3.4162102e-08 4.9256425e-08\n",
      "  5.1388943e-06 7.6986289e-06 8.2822353e-06 6.7348257e-05 3.9740394e-07\n",
      "  6.8888482e-08 5.6302786e-04 1.5340946e-06 9.6243119e-01 3.5342406e-02]]\n",
      "The predicted class is 7090Z_W_E_0\n",
      "<class 'list'>\n",
      "[[18 19  6 16 13]]\n",
      "<class 'list'>\n",
      "top= 0 18 7090Z_W_E_0 0.9624311923980713\n",
      "top= 1 19 7094Z_W_E_0 0.03534240648150444\n",
      "top= 2 6 4648B_W_E_0 0.0015249671414494514\n",
      "top= 3 16 5340B_W_E_0 0.0005630278610624373\n",
      "top= 4 13 5180B_W_E_0 6.734825728926808e-05\n"
     ]
    }
   ],
   "source": [
    "N=5\n",
    "for sampleId in range(trainImageLen):\n",
    "    print(sampleId)\n",
    "    print(valImage[sampleId])\n",
    "    #PIL.Image.open(str((valImage[sampleId]))\n",
    "    image = cv2.imread(str((trainImage[sampleId])))\n",
    "    image_resized = cv2.resize(image,(img_height,img_width))\n",
    "    #print(img_height)\n",
    "    #print(img_width)\n",
    "    image=np.expand_dims(image_resized,axis=0)\n",
    "    #print(image.shape)\n",
    "    pred=resnet_model.predict(image)\n",
    "    print(pred)\n",
    "    pred_1=pred.tolist()\n",
    "    output_class=class_name[np.argmax(pred_1)]\n",
    "    print(\"The predicted class is\", output_class)\n",
    "    pred_list = []\n",
    "    for row in pred:\n",
    "        pred_list.append(row.argsort()[-N:][::-1])  #获取最大的N个值的下标\n",
    "        #print(pred_list)\n",
    "    pred_array = np.array(pred_list)\n",
    "    print(type(pred_list))\n",
    "    print(pred_array)\n",
    "    print(type(pred_list))\n",
    "    for i in range(len(pred_array)):\n",
    "        for j in range(len(pred_array[0])):\n",
    "            k=pred_array[i][j]\n",
    "            print('top=',j,pred_array[i][j],class_name[k],pred_1[0][k])\n",
    "            fp = open(\"/root/resnet_EB_Wall_20class/finial_result.csv\", \"a+\")\n",
    "            #print('top=',j,pred_array[i][j],class_name[k],pred_1[0][k], file=fp)\n",
    "            #fp.close()\n",
    "            #if class_name[k]== rock[sampleId].split('.').split('/')[5]:\n",
    "                #print(\"matched!\")"
   ]
  },
  {
   "cell_type": "code",
   "execution_count": null,
   "metadata": {
    "collapsed": true
   },
   "outputs": [],
   "source": []
  }
 ],
 "metadata": {
  "kernelspec": {
   "display_name": "Python 3",
   "language": "python",
   "name": "python3"
  },
  "language_info": {
   "codemirror_mode": {
    "name": "ipython",
    "version": 3
   },
   "file_extension": ".py",
   "mimetype": "text/x-python",
   "name": "python",
   "nbconvert_exporter": "python",
   "pygments_lexer": "ipython3",
   "version": "3.6.3"
  }
 },
 "nbformat": 4,
 "nbformat_minor": 2
}
