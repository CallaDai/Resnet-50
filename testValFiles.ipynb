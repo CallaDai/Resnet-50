{
 "cells": [
  {
   "cell_type": "code",
   "execution_count": 28,
   "metadata": {
    "collapsed": true
   },
   "outputs": [],
   "source": [
    "import matplotlib.pyplot as plt\n",
    "import numpy as np\n",
    "import os\n",
    "import PIL\n",
    "import tensorflow as tf\n",
    "from tensorflow import keras\n",
    "from tensorflow.keras import layers\n",
    "from tensorflow.python.keras.layers import Dense, Flatten\n",
    "from tensorflow.keras.models import Sequential\n",
    "from tensorflow.keras.optimizers import Adam\n",
    "import keras\n",
    "import cv2\n",
    "from keras.models import load_model\n",
    "import pathlib\n"
   ]
  },
  {
   "cell_type": "code",
   "execution_count": 29,
   "metadata": {
    "collapsed": true
   },
   "outputs": [],
   "source": [
    "img_height, img_width = 224,224\n",
    "batch_size = 32"
   ]
  },
  {
   "cell_type": "code",
   "execution_count": 30,
   "metadata": {
    "collapsed": true
   },
   "outputs": [],
   "source": [
    "# 重新加载模型\n",
    "resnet_model = load_model('/root/resnet_EB_Wall_20class/model/my_model_newPic.h5')\n"
   ]
  },
  {
   "cell_type": "code",
   "execution_count": 31,
   "metadata": {},
   "outputs": [
    {
     "name": "stdout",
     "output_type": "stream",
     "text": [
      "/root/data_Camera/20classWooden_1/\n"
     ]
    }
   ],
   "source": [
    "data_dir = r\"/root/data_Camera/20classWooden_1/\"\n",
    "type(data_dir)\n",
    "print(data_dir)"
   ]
  },
  {
   "cell_type": "code",
   "execution_count": 32,
   "metadata": {},
   "outputs": [
    {
     "name": "stdout",
     "output_type": "stream",
     "text": [
      "/root/data_Camera/20classWooden_1\n"
     ]
    }
   ],
   "source": [
    "data_dir = pathlib.Path(data_dir)\n",
    "type(data_dir)\n",
    "print(data_dir)"
   ]
  },
  {
   "cell_type": "code",
   "execution_count": 33,
   "metadata": {
    "collapsed": true
   },
   "outputs": [],
   "source": [
    "def get_name_list(filepath):                #获取各个类别的名字\n",
    "    pathDir =  os.listdir(filepath)\n",
    "    out = []\n",
    "    for allDir in pathDir:\n",
    "        if os.path.isdir(os.path.join(filepath,allDir)):\n",
    "            #child = allDir()    # .decode('gbk')是解决中文显示乱码问题\n",
    "            out.append(allDir)\n",
    "    return out"
   ]
  },
  {
   "cell_type": "code",
   "execution_count": 34,
   "metadata": {},
   "outputs": [
    {
     "name": "stdout",
     "output_type": "stream",
     "text": [
      "['3817B_W_NE_0', '3827B_W_E_1', '4519B_W_E_0', '4538B_W_E_0', '4552B_W_E_3', '4586B_W_E_1', '4648B_W_E_0', '4669B_W_E_1', '4791B_W_E_0', '4917B_W_NE_0', '4955B_W_NE_0', '5115B_W_NE_1', '5132B_W_E_0', '5180B_W_E_0', '5206B_W_E_1', '5273B_W_E_5', '5340B_W_E_0', '5393B_W_E_0', '7090Z_W_E_0', '7094Z_W_E_0']\n"
     ]
    }
   ],
   "source": [
    "class_name= sorted(get_name_list(data_dir))\n",
    "#class_name = class_name.sort()\n",
    "print(class_name)\n",
    "fp = open(\"/root/resnet_EB_Wall_20class/samplesTestclass_name.csv\", \"a+\")\n",
    "print(class_name, file=fp)\n",
    "fp.close()\t"
   ]
  },
  {
   "cell_type": "code",
   "execution_count": 35,
   "metadata": {},
   "outputs": [
    {
     "name": "stdout",
     "output_type": "stream",
     "text": [
      "/root/data_Camera/samples/samplesTestFor20Class/\n"
     ]
    }
   ],
   "source": [
    "testData_dir = r\"/root/data_Camera/samples/samplesTestFor20Class/\"\n",
    "type(testData_dir)\n",
    "print(testData_dir)"
   ]
  },
  {
   "cell_type": "code",
   "execution_count": 36,
   "metadata": {},
   "outputs": [
    {
     "name": "stdout",
     "output_type": "stream",
     "text": [
      "/root/data_Camera/samples/samplesTestFor20Class\n"
     ]
    }
   ],
   "source": [
    "testData_dir = pathlib.Path(testData_dir)\n",
    "type(testData_dir)\n",
    "print(testData_dir)"
   ]
  },
  {
   "cell_type": "code",
   "execution_count": 37,
   "metadata": {},
   "outputs": [
    {
     "name": "stdout",
     "output_type": "stream",
     "text": [
      "[PosixPath('/root/data_Camera/samples/samplesTestFor20Class/valImage/5273B_W_E_5_1651237719821135_imgaug.jpg'), PosixPath('/root/data_Camera/samples/samplesTestFor20Class/valImage/5180B_W_E_0_165123793429638_imgaug.jpg'), PosixPath('/root/data_Camera/samples/samplesTestFor20Class/valImage/7090Z_W_E_0_1651237752253173_imgaug.jpg'), PosixPath('/root/data_Camera/samples/samplesTestFor20Class/valImage/7094Z_W_E_0_1651237635931204_imgaug.jpg'), PosixPath('/root/data_Camera/samples/samplesTestFor20Class/valImage/5393B_W_E_0_1651237669704166_imgaug.jpg')]\n"
     ]
    }
   ],
   "source": [
    "valImage = list(testData_dir.glob('valImage/*'))\n",
    "print(valImage)"
   ]
  },
  {
   "cell_type": "code",
   "execution_count": 38,
   "metadata": {},
   "outputs": [
    {
     "name": "stdout",
     "output_type": "stream",
     "text": [
      "5\n"
     ]
    }
   ],
   "source": [
    "valImageLen = len(valImage)\n",
    "print(valImageLen)"
   ]
  },
  {
   "cell_type": "code",
   "execution_count": 39,
   "metadata": {},
   "outputs": [
    {
     "name": "stdout",
     "output_type": "stream",
     "text": [
      "/root/data_Camera/samples/samplesTestFor20Class/valImage/5273B_W_E_5_1651237719821135_imgaug.jpg\n"
     ]
    }
   ],
   "source": [
    "\n",
    "oneImageTest = list(testData_dir.glob('valImage/*'))\n",
    "print(oneImageTest[0])\n"
   ]
  },
  {
   "cell_type": "code",
   "execution_count": 40,
   "metadata": {},
   "outputs": [
    {
     "name": "stdout",
     "output_type": "stream",
     "text": [
      "(1, 224, 224, 3)\n"
     ]
    }
   ],
   "source": [
    "oneImageTest = cv2.imread(str(oneImageTest[0]))\n",
    "oneImage_resized = cv2.resize(oneImageTest,(img_height,img_width))\n",
    "oneImageTest=np.expand_dims(oneImage_resized,axis=0)\n",
    "print(oneImageTest.shape)"
   ]
  },
  {
   "cell_type": "code",
   "execution_count": 41,
   "metadata": {},
   "outputs": [
    {
     "name": "stdout",
     "output_type": "stream",
     "text": [
      "[[9.9934925e-07 5.7888161e-09 1.0052789e-07 7.2674148e-08 4.1664055e-08\n",
      "  6.8882991e-06 5.7842598e-12 4.9086890e-09 5.9115618e-10 1.1831403e-06\n",
      "  1.5898678e-10 1.1662852e-09 3.2937553e-08 5.1672711e-10 4.5946672e-07\n",
      "  9.9998140e-01 5.4388644e-10 8.6503987e-06 1.7743406e-09 2.4858289e-09]]\n",
      "15\n",
      "15 5273B_W_E_5\n"
     ]
    }
   ],
   "source": [
    "onePred=resnet_model.predict(oneImageTest)\n",
    "print(onePred)\n",
    "oneOutput=np.argmax(onePred)\n",
    "print(oneOutput)\n",
    "print(oneOutput, class_name[oneOutput])"
   ]
  },
  {
   "cell_type": "code",
   "execution_count": 44,
   "metadata": {
    "collapsed": true
   },
   "outputs": [],
   "source": [
    "N=5"
   ]
  },
  {
   "cell_type": "code",
   "execution_count": 45,
   "metadata": {},
   "outputs": [
    {
     "name": "stdout",
     "output_type": "stream",
     "text": [
      "0\n",
      "/root/data_Camera/samples/samplesTestFor20Class/valImage/5273B_W_E_5_1651237719821135_imgaug.jpg\n",
      "[[9.9934925e-07 5.7888161e-09 1.0052789e-07 7.2674148e-08 4.1664055e-08\n",
      "  6.8882991e-06 5.7842598e-12 4.9086890e-09 5.9115618e-10 1.1831403e-06\n",
      "  1.5898678e-10 1.1662852e-09 3.2937553e-08 5.1672711e-10 4.5946672e-07\n",
      "  9.9998140e-01 5.4388644e-10 8.6503987e-06 1.7743406e-09 2.4858289e-09]]\n",
      "The predicted class is 5273B_W_E_5\n",
      "<class 'list'>\n",
      "[[15 17  5  9  0]]\n",
      "<class 'list'>\n",
      "top= 0 15 5273B_W_E_5 0.9999814033508301\n",
      "top= 1 17 5393B_W_E_0 8.6503987404285e-06\n",
      "top= 2 5 4586B_W_E_1 6.888299139973242e-06\n",
      "top= 3 9 4917B_W_NE_0 1.1831402844109107e-06\n",
      "top= 4 0 3817B_W_NE_0 9.993492540161242e-07\n",
      "1\n",
      "/root/data_Camera/samples/samplesTestFor20Class/valImage/5180B_W_E_0_165123793429638_imgaug.jpg\n",
      "[[7.9721474e-09 9.6299191e-09 1.3227892e-09 1.8312731e-07 2.4286956e-07\n",
      "  2.0815557e-07 1.9713008e-08 2.5931442e-08 4.8913082e-11 6.8568258e-09\n",
      "  1.0520907e-06 9.6661256e-07 1.7526793e-06 9.9997914e-01 2.5659969e-07\n",
      "  1.0001696e-08 4.5276770e-06 2.9895904e-08 1.1037793e-05 5.3603583e-07]]\n",
      "The predicted class is 5180B_W_E_0\n",
      "<class 'list'>\n",
      "[[13 18 16 12 10]]\n",
      "<class 'list'>\n",
      "top= 0 13 5180B_W_E_0 0.9999791383743286\n",
      "top= 1 18 7090Z_W_E_0 1.103779322875198e-05\n",
      "top= 2 16 5340B_W_E_0 4.527676992438501e-06\n",
      "top= 3 12 5132B_W_E_0 1.7526792817079695e-06\n",
      "top= 4 10 4955B_W_NE_0 1.0520907380850986e-06\n",
      "2\n",
      "/root/data_Camera/samples/samplesTestFor20Class/valImage/7090Z_W_E_0_1651237752253173_imgaug.jpg\n",
      "[[1.9477913e-07 2.9242199e-06 9.0093096e-08 4.7568175e-08 8.6244452e-09\n",
      "  2.5669271e-09 3.9509923e-05 1.1423120e-07 2.1530814e-08 1.7787613e-08\n",
      "  5.3251583e-08 2.7441463e-06 4.3631744e-06 7.2505048e-07 1.4499811e-08\n",
      "  4.6126627e-09 3.1229003e-05 4.8788078e-08 9.9991727e-01 7.7138827e-07]]\n",
      "The predicted class is 7090Z_W_E_0\n",
      "<class 'list'>\n",
      "[[18  6 16 12  1]]\n",
      "<class 'list'>\n",
      "top= 0 18 7090Z_W_E_0 0.9999172687530518\n",
      "top= 1 6 4648B_W_E_0 3.9509923226432875e-05\n",
      "top= 2 16 5340B_W_E_0 3.122900307062082e-05\n",
      "top= 3 12 5132B_W_E_0 4.363174411992077e-06\n",
      "top= 4 1 3827B_W_E_1 2.9242198706924682e-06\n",
      "3\n",
      "/root/data_Camera/samples/samplesTestFor20Class/valImage/7094Z_W_E_0_1651237635931204_imgaug.jpg\n",
      "[[2.9569581e-05 6.4076053e-06 2.3995736e-07 1.8091905e-07 3.7200925e-07\n",
      "  8.7291554e-08 1.3128244e-03 8.2365796e-06 3.2563953e-08 4.3494840e-08\n",
      "  4.4492845e-06 7.2795219e-06 7.4431309e-06 6.1984021e-05 3.4978814e-07\n",
      "  6.3899684e-08 5.2265910e-04 1.4716634e-06 9.6660334e-01 3.1433012e-02]]\n",
      "The predicted class is 7090Z_W_E_0\n",
      "<class 'list'>\n",
      "[[18 19  6 16 13]]\n",
      "<class 'list'>\n",
      "top= 0 18 7090Z_W_E_0 0.9666033387184143\n",
      "top= 1 19 7094Z_W_E_0 0.03143301233649254\n",
      "top= 2 6 4648B_W_E_0 0.0013128244318068027\n",
      "top= 3 16 5340B_W_E_0 0.0005226591019891202\n",
      "top= 4 13 5180B_W_E_0 6.198402115842327e-05\n",
      "4\n",
      "/root/data_Camera/samples/samplesTestFor20Class/valImage/5393B_W_E_0_1651237669704166_imgaug.jpg\n",
      "[[1.00742141e-03 1.12085731e-03 1.91114459e-03 1.01801365e-04\n",
      "  3.52254901e-05 9.60341655e-04 4.42713463e-06 1.50773994e-04\n",
      "  1.65267252e-07 4.12616355e-05 6.28533508e-06 8.05514792e-05\n",
      "  3.64136125e-04 2.27450320e-04 6.78660290e-05 1.54673890e-03\n",
      "  5.71574271e-03 8.40069294e-01 1.46492586e-01 9.58803721e-05]]\n",
      "The predicted class is 5393B_W_E_0\n",
      "<class 'list'>\n",
      "[[17 18 16  2 15]]\n",
      "<class 'list'>\n",
      "top= 0 17 5393B_W_E_0 0.8400692939758301\n",
      "top= 1 18 7090Z_W_E_0 0.1464925855398178\n",
      "top= 2 16 5340B_W_E_0 0.0057157427072525024\n",
      "top= 3 2 4519B_W_E_0 0.0019111445872113109\n",
      "top= 4 15 5273B_W_E_5 0.0015467389021068811\n"
     ]
    }
   ],
   "source": [
    "for sampleId in range(valImageLen):\n",
    "    print(sampleId)\n",
    "    print(valImage[sampleId])\n",
    "    #PIL.Image.open(str((valImage[sampleId]))\n",
    "    image = cv2.imread(str((valImage[sampleId])))\n",
    "    image_resized = cv2.resize(image,(img_height,img_width))\n",
    "    #print(img_height)\n",
    "    #print(img_width)\n",
    "    image=np.expand_dims(image_resized,axis=0)\n",
    "    #print(image.shape)\n",
    "    pred=resnet_model.predict(image)\n",
    "    print(pred)\n",
    "    pred_1=pred.tolist()\n",
    "    output_class=class_name[np.argmax(pred_1)]\n",
    "    print(\"The predicted class is\", output_class)\n",
    "    pred_list = []\n",
    "    for row in pred:\n",
    "        pred_list.append(row.argsort()[-N:][::-1])  #获取最大的N个值的下标\n",
    "        #print(pred_list)\n",
    "    pred_array = np.array(pred_list)\n",
    "    print(type(pred_list))\n",
    "    print(pred_array)\n",
    "    print(type(pred_list))\n",
    "    for i in range(len(pred_array)):\n",
    "        for j in range(len(pred_array[0])):\n",
    "            k=pred_array[i][j]\n",
    "            print('top=',j,pred_array[i][j],class_name[k],pred_1[0][k])\n",
    "            fp = open(\"/root/resnet_EB_Wall_20class/finial_result.csv\", \"a+\")\n",
    "            #print('top=',j,pred_array[i][j],class_name[k],pred_1[0][k], file=fp)\n",
    "            #fp.close()\n",
    "            #if class_name[k]== rock[sampleId].split('.').split('/')[5]:\n",
    "                #print(\"matched!\")"
   ]
  },
  {
   "cell_type": "code",
   "execution_count": null,
   "metadata": {
    "collapsed": true
   },
   "outputs": [],
   "source": []
  }
 ],
 "metadata": {
  "kernelspec": {
   "display_name": "Python 3",
   "language": "python",
   "name": "python3"
  },
  "language_info": {
   "codemirror_mode": {
    "name": "ipython",
    "version": 3
   },
   "file_extension": ".py",
   "mimetype": "text/x-python",
   "name": "python",
   "nbconvert_exporter": "python",
   "pygments_lexer": "ipython3",
   "version": "3.6.3"
  }
 },
 "nbformat": 4,
 "nbformat_minor": 2
}
